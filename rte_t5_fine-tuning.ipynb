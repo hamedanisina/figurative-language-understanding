{
 "cells": [
  {
   "cell_type": "code",
   "execution_count": 1,
   "metadata": {},
   "outputs": [
    {
     "name": "stderr",
     "output_type": "stream",
     "text": [
      "/home/manavi/myenv/lib/python3.9/site-packages/tqdm/auto.py:21: TqdmWarning: IProgress not found. Please update jupyter and ipywidgets. See https://ipywidgets.readthedocs.io/en/stable/user_install.html\n",
      "  from .autonotebook import tqdm as notebook_tqdm\n"
     ]
    }
   ],
   "source": [
    "from transformers import T5ForConditionalGeneration, T5Tokenizer, Trainer, TrainingArguments\n",
    "from datasets import load_dataset, load_metric"
   ]
  },
  {
   "cell_type": "code",
   "execution_count": 3,
   "metadata": {},
   "outputs": [],
   "source": [
    "%pip install accelerate -U"
   ]
  },
  {
   "cell_type": "markdown",
   "metadata": {},
   "source": [
    "********************"
   ]
  },
  {
   "cell_type": "markdown",
   "metadata": {},
   "source": [
    "**************"
   ]
  },
  {
   "cell_type": "markdown",
   "metadata": {},
   "source": [
    "last"
   ]
  },
  {
   "cell_type": "markdown",
   "metadata": {},
   "source": [
    "************"
   ]
  },
  {
   "cell_type": "code",
   "execution_count": 1,
   "metadata": {},
   "outputs": [],
   "source": [
    "from tqdm.notebook import tqdm\n",
    "from IPython import display\n",
    "\n",
    "import numpy as np\n",
    "import pandas as pd\n",
    "\n",
    "from sklearn.metrics import accuracy_score\n",
    "\n",
    "import torch\n",
    "import torch.nn as nn\n",
    "\n",
    "from datasets import load_dataset\n",
    "from transformers import T5TokenizerFast, T5ForConditionalGeneration, DataCollatorForSeq2Seq"
   ]
  },
  {
   "cell_type": "code",
   "execution_count": 2,
   "metadata": {},
   "outputs": [],
   "source": [
    "BASE_MODEL_NAME = \"t5-large\"\n",
    "\n",
    "BATCH_SIZE = 16\n",
    "LEARNING_RATE = 5e-5\n",
    "EPOCHS = 3\n",
    "\n",
    "DEVICE = torch.device(\"cuda:0\" if torch.cuda.is_available() else \"cpu\")"
   ]
  },
  {
   "cell_type": "code",
   "execution_count": 3,
   "metadata": {},
   "outputs": [
    {
     "name": "stdout",
     "output_type": "stream",
     "text": [
      "DatasetDict({\n",
      "    train: Dataset({\n",
      "        features: ['sentence1', 'sentence2', 'label', 'idx'],\n",
      "        num_rows: 2490\n",
      "    })\n",
      "    validation: Dataset({\n",
      "        features: ['sentence1', 'sentence2', 'label', 'idx'],\n",
      "        num_rows: 277\n",
      "    })\n",
      "    test: Dataset({\n",
      "        features: ['sentence1', 'sentence2', 'label', 'idx'],\n",
      "        num_rows: 3000\n",
      "    })\n",
      "})\n"
     ]
    }
   ],
   "source": [
    "dataset = load_dataset(\"glue\", \"rte\")\n",
    "# dataset.pop('unsupervised')\n",
    "print(dataset)"
   ]
  },
  {
   "cell_type": "code",
   "execution_count": 4,
   "metadata": {},
   "outputs": [
    {
     "data": {
      "text/plain": [
       "1"
      ]
     },
     "execution_count": 4,
     "metadata": {},
     "output_type": "execute_result"
    }
   ],
   "source": [
    "dataset['validation']['label'][0]"
   ]
  },
  {
   "cell_type": "code",
   "execution_count": 5,
   "metadata": {},
   "outputs": [],
   "source": [
    "def id2label(ids):\n",
    "    label_names = ['entailment', 'not_entailment']\n",
    "    return [label_names[id] for id in ids]\n",
    "\n",
    "def label2id(labels):\n",
    "    label_names_dict = {\n",
    "        'entailment': 0,\n",
    "        'not_entailment': 1\n",
    "    }\n",
    "    return [\n",
    "        label_names_dict.get(label, 2)\n",
    "        for label in labels\n",
    "    ]"
   ]
  },
  {
   "cell_type": "code",
   "execution_count": 6,
   "metadata": {},
   "outputs": [],
   "source": [
    "tokenizer = T5TokenizerFast.from_pretrained(BASE_MODEL_NAME)"
   ]
  },
  {
   "cell_type": "code",
   "execution_count": 7,
   "metadata": {},
   "outputs": [
    {
     "name": "stdout",
     "output_type": "stream",
     "text": [
      "hello\n"
     ]
    }
   ],
   "source": [
    "print('hello')"
   ]
  },
  {
   "cell_type": "code",
   "execution_count": 8,
   "metadata": {},
   "outputs": [
    {
     "data": {
      "application/vnd.jupyter.widget-view+json": {
       "model_id": "2f747d1e854e41e498e65b8082d5f535",
       "version_major": 2,
       "version_minor": 0
      },
      "text/plain": [
       "Map:   0%|          | 0/3000 [00:00<?, ? examples/s]"
      ]
     },
     "metadata": {},
     "output_type": "display_data"
    },
    {
     "name": "stdout",
     "output_type": "stream",
     "text": [
      "hello\n",
      "hello\n",
      "hello\n"
     ]
    }
   ],
   "source": [
    "def preprocess_input(text):\n",
    "    text = text.lower()\n",
    "    text = text.replace('<br />', ' ')\n",
    "    return text\n",
    "\n",
    "def map_function(row):\n",
    "    # processed_input = [\n",
    "    #     preprocess_input(text)\n",
    "    #     for text in row['text']\n",
    "    # ]\n",
    "    print('hello')\n",
    "    processed_input = [f\"premise: {premise} hypothesis: {hypothesis}\" for premise, hypothesis in zip(row['sentence1'], row['sentence2'])]\n",
    "    input_info = tokenizer(processed_input, truncation=True, max_length=256)\n",
    "    output_info = tokenizer(id2label(row['label']), padding=True)\n",
    "    # encoded_labels = tokenizer(text_target=labels, padding=True)\n",
    "    return {\n",
    "        **input_info,\n",
    "        'labels': output_info.input_ids\n",
    "    }\n",
    "\n",
    "\n",
    "dataset = dataset.map(map_function, batched=True)\n",
    "dataset.set_format(type='torch', columns=['input_ids', 'attention_mask', 'labels'])"
   ]
  },
  {
   "cell_type": "code",
   "execution_count": 9,
   "metadata": {},
   "outputs": [
    {
     "data": {
      "text/plain": [
       "DatasetDict({\n",
       "    train: Dataset({\n",
       "        features: ['sentence1', 'sentence2', 'label', 'idx', 'input_ids', 'attention_mask', 'labels'],\n",
       "        num_rows: 2490\n",
       "    })\n",
       "    validation: Dataset({\n",
       "        features: ['sentence1', 'sentence2', 'label', 'idx', 'input_ids', 'attention_mask', 'labels'],\n",
       "        num_rows: 277\n",
       "    })\n",
       "    test: Dataset({\n",
       "        features: ['sentence1', 'sentence2', 'label', 'idx', 'input_ids', 'attention_mask', 'labels'],\n",
       "        num_rows: 3000\n",
       "    })\n",
       "})"
      ]
     },
     "execution_count": 9,
     "metadata": {},
     "output_type": "execute_result"
    }
   ],
   "source": [
    "dataset"
   ]
  },
  {
   "cell_type": "code",
   "execution_count": 10,
   "metadata": {},
   "outputs": [
    {
     "data": {
      "text/plain": [
       "tensor([[  59,  834,   35, 5756,  297,    1],\n",
       "        [   3,   35, 5756,  297,    1,    0],\n",
       "        [  59,  834,   35, 5756,  297,    1],\n",
       "        ...,\n",
       "        [   3,   35, 5756,  297,    1,    0],\n",
       "        [   3,   35, 5756,  297,    1,    0],\n",
       "        [  59,  834,   35, 5756,  297,    1]])"
      ]
     },
     "execution_count": 10,
     "metadata": {},
     "output_type": "execute_result"
    }
   ],
   "source": [
    "dataset['validation']['labels']"
   ]
  },
  {
   "cell_type": "code",
   "execution_count": 11,
   "metadata": {},
   "outputs": [],
   "source": [
    "model = T5ForConditionalGeneration.from_pretrained(BASE_MODEL_NAME)"
   ]
  },
  {
   "cell_type": "code",
   "execution_count": 12,
   "metadata": {},
   "outputs": [],
   "source": [
    "col_fn = DataCollatorForSeq2Seq(\n",
    "    tokenizer, return_tensors='pt', padding='longest',\n",
    ")\n",
    "\n",
    "train_loader = torch.utils.data.DataLoader(\n",
    "    dataset['train'],\n",
    "    batch_size=BATCH_SIZE,\n",
    "    collate_fn=col_fn,\n",
    "    shuffle=True\n",
    ")\n",
    "\n",
    "test_loader = torch.utils.data.DataLoader(\n",
    "    dataset['validation'],\n",
    "    batch_size=BATCH_SIZE,\n",
    "    collate_fn=col_fn,\n",
    ")"
   ]
  },
  {
   "cell_type": "code",
   "execution_count": 13,
   "metadata": {},
   "outputs": [],
   "source": [
    "# import torch\n",
    "# import numpy as np\n",
    "# from tqdm import tqdm\n",
    "\n",
    "# def train_loop(model, loader, optimizer, accumulation_steps=32):\n",
    "#     model.train()\n",
    "\n",
    "#     batch_losses = []\n",
    "#     optimizer.zero_grad()\n",
    "\n",
    "#     for i, row in enumerate(tqdm(loader, desc='Training:')):\n",
    "#         out = model(**{k: v.to(model.device) for k, v in row.items()})\n",
    "#         loss = out.loss / accumulation_steps  # normalize loss\n",
    "\n",
    "#         batch_loss_value = loss.item() * accumulation_steps  # convert to original loss value for logging\n",
    "#         loss.backward()\n",
    "\n",
    "#         if (i + 1) % accumulation_steps == 0:  # update weights every accumulation_steps mini-batches\n",
    "#             optimizer.step()\n",
    "#             optimizer.zero_grad()  # reset gradients\n",
    "\n",
    "#         batch_losses.append(batch_loss_value)\n",
    "\n",
    "#     # Update remaining gradients if the number of batches is not a multiple of accumulation_steps\n",
    "#     if len(loader) % accumulation_steps != 0:\n",
    "#         optimizer.step()\n",
    "#         optimizer.zero_grad()\n",
    "\n",
    "#     loss_value = np.mean(batch_losses)\n",
    "#     return {'train_loss': loss_value}\n"
   ]
  },
  {
   "cell_type": "code",
   "execution_count": 14,
   "metadata": {},
   "outputs": [],
   "source": [
    "def train_loop(model, loader, optimizer):\n",
    "    model.train()\n",
    "\n",
    "    batch_losses = []\n",
    "\n",
    "    for row in tqdm(loader, desc='Training:'):\n",
    "        optimizer.zero_grad()\n",
    "\n",
    "        out = model(**row.to(model.device))\n",
    "        loss = out.loss\n",
    "\n",
    "        batch_loss_value = loss.item()\n",
    "        loss.backward()\n",
    "        optimizer.step()\n",
    "\n",
    "        batch_losses.append(batch_loss_value)\n",
    "\n",
    "    loss_value = np.mean(batch_losses)\n",
    "    return {'train_loss': loss_value}\n",
    "\n",
    "def _predict(model, row):\n",
    "    return model.generate(\n",
    "        input_ids=row.input_ids,\n",
    "        attention_mask=row.attention_mask,\n",
    "        max_length=5\n",
    "    )\n",
    "\n",
    "def tokenizer_ids_to_label(all_input_ids):\n",
    "    return tokenizer.batch_decode(all_input_ids, skip_special_tokens=True)\n",
    "\n",
    "def valid_loop(model, loader, compute_metrics):\n",
    "    model.eval()\n",
    "\n",
    "    all_true = []\n",
    "    all_pred = []\n",
    "\n",
    "    with torch.no_grad():\n",
    "        for row in tqdm(loader, desc='Validating:'):\n",
    "            row.to(model.device)\n",
    "            pred = _predict(model, row)\n",
    "\n",
    "            all_true += row.labels.detach().cpu().tolist()\n",
    "            all_pred += pred.detach().cpu().tolist()\n",
    "\n",
    "    all_true = label2id(tokenizer_ids_to_label(all_true))\n",
    "    all_pred = label2id(tokenizer_ids_to_label(all_pred))\n",
    "\n",
    "    return {'valid_acc': compute_metrics(y_true=all_true, y_pred=all_pred)}"
   ]
  },
  {
   "cell_type": "code",
   "execution_count": 15,
   "metadata": {},
   "outputs": [],
   "source": [
    "optimizer = torch.optim.AdamW(model.parameters(), lr=LEARNING_RATE)\n",
    "compute_metrics = accuracy_score"
   ]
  },
  {
   "cell_type": "code",
   "execution_count": 16,
   "metadata": {},
   "outputs": [
    {
     "data": {
      "text/html": [
       "<div>\n",
       "<style scoped>\n",
       "    .dataframe tbody tr th:only-of-type {\n",
       "        vertical-align: middle;\n",
       "    }\n",
       "\n",
       "    .dataframe tbody tr th {\n",
       "        vertical-align: top;\n",
       "    }\n",
       "\n",
       "    .dataframe thead th {\n",
       "        text-align: right;\n",
       "    }\n",
       "</style>\n",
       "<table border=\"1\" class=\"dataframe\">\n",
       "  <thead>\n",
       "    <tr style=\"text-align: right;\">\n",
       "      <th></th>\n",
       "      <th>train_loss</th>\n",
       "      <th>valid_acc</th>\n",
       "    </tr>\n",
       "    <tr>\n",
       "      <th>epoch</th>\n",
       "      <th></th>\n",
       "      <th></th>\n",
       "    </tr>\n",
       "  </thead>\n",
       "  <tbody>\n",
       "    <tr>\n",
       "      <th>0</th>\n",
       "      <td>0.182129</td>\n",
       "      <td>0.476534</td>\n",
       "    </tr>\n",
       "    <tr>\n",
       "      <th>1</th>\n",
       "      <td>0.043604</td>\n",
       "      <td>0.476534</td>\n",
       "    </tr>\n",
       "    <tr>\n",
       "      <th>2</th>\n",
       "      <td>0.027298</td>\n",
       "      <td>0.487365</td>\n",
       "    </tr>\n",
       "  </tbody>\n",
       "</table>\n",
       "</div>"
      ],
      "text/plain": [
       "       train_loss  valid_acc\n",
       "epoch                       \n",
       "0        0.182129   0.476534\n",
       "1        0.043604   0.476534\n",
       "2        0.027298   0.487365"
      ]
     },
     "metadata": {},
     "output_type": "display_data"
    }
   ],
   "source": [
    "model.to(DEVICE)\n",
    "\n",
    "all_results = []\n",
    "for epoch in range(EPOCHS):\n",
    "    epoch_results = {'epoch': epoch}\n",
    "\n",
    "    epoch_results.update(\n",
    "        train_loop(\n",
    "            model=model,\n",
    "            loader=train_loader,\n",
    "            optimizer=optimizer,\n",
    "        )\n",
    "    )\n",
    "\n",
    "    epoch_results.update(\n",
    "        valid_loop(\n",
    "            model=model,\n",
    "            loader=test_loader,\n",
    "            compute_metrics=compute_metrics,\n",
    "        )\n",
    "    )\n",
    "    all_results.append(epoch_results)\n",
    "\n",
    "    display.clear_output()\n",
    "    display.display(pd.DataFrame(all_results).set_index('epoch'))"
   ]
  }
 ],
 "metadata": {
  "kernelspec": {
   "display_name": "myenv",
   "language": "python",
   "name": "python3"
  },
  "language_info": {
   "codemirror_mode": {
    "name": "ipython",
    "version": 3
   },
   "file_extension": ".py",
   "mimetype": "text/x-python",
   "name": "python",
   "nbconvert_exporter": "python",
   "pygments_lexer": "ipython3",
   "version": "3.9.13"
  }
 },
 "nbformat": 4,
 "nbformat_minor": 2
}
